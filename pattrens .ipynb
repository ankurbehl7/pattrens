{
 "cells": [
  {
   "cell_type": "markdown",
   "metadata": {},
   "source": [
    "#Pattrens "
   ]
  },
  {
   "cell_type": "code",
   "execution_count": 4,
   "metadata": {},
   "outputs": [
    {
     "name": "stdout",
     "output_type": "stream",
     "text": [
      "enter the no of rows:5\n",
      "& \n",
      "& & \n",
      "& & & \n",
      "& & & & \n",
      "& & & & & \n"
     ]
    }
   ],
   "source": [
    "# making a simple \n",
    "\n",
    "i=int(input(\"enter the no of rows:\"))\n",
    "for row in range(1,i+1):\n",
    "    for col in range(1,row+1):\n",
    "        print(\"&\",end=\" \")\n",
    "    print()\n",
    "    \n",
    "    "
   ]
  },
  {
   "cell_type": "code",
   "execution_count": 10,
   "metadata": {},
   "outputs": [
    {
     "name": "stdout",
     "output_type": "stream",
     "text": [
      "enter the no of rows:5\n",
      "# # # # # \n",
      "# # # # \n",
      "# # # \n",
      "# # \n",
      "# \n"
     ]
    }
   ],
   "source": [
    "i=int(input(\"enter the no of rows:\"))\n",
    "for row in range(i):\n",
    "    for col in range(i-row):\n",
    "        print(\"#\",end=\" \")\n",
    "        \n",
    "    print()"
   ]
  },
  {
   "cell_type": "code",
   "execution_count": 15,
   "metadata": {},
   "outputs": [
    {
     "name": "stdout",
     "output_type": "stream",
     "text": [
      "enter the no of rows:5\n",
      "* \n",
      "* * * \n",
      "* * * * * \n",
      "* * * * * * * \n",
      "* * * * * * * * * \n"
     ]
    }
   ],
   "source": [
    "# making pattren of right angle traingle\n",
    "\n",
    "row=int(input(\"enter the no of rows:\"))\n",
    "j=1\n",
    "for i in range(row):\n",
    "    for col in range(1,j+1):\n",
    "        print(\"*\",end=\" \")\n",
    "    j=j+2\n",
    "    print()"
   ]
  },
  {
   "cell_type": "code",
   "execution_count": 18,
   "metadata": {},
   "outputs": [
    {
     "name": "stdout",
     "output_type": "stream",
     "text": [
      "\n",
      "& \n",
      "& & \n",
      "& & & \n",
      "& & & & \n",
      "& & & & & \n",
      "* * * * * \n",
      "* * * * \n",
      "* * * \n",
      "* * \n",
      "* \n",
      "\n"
     ]
    }
   ],
   "source": [
    "# combining 1st and 2nd pattern\n",
    "\n",
    "i=5\n",
    "for row in range(i+1):\n",
    "    for col in range(1,row+1):\n",
    "        print(\"&\",end=\" \")\n",
    "    print()\n",
    "for row in range(i+1):\n",
    "    for col in range(i-row):\n",
    "        print(\"*\",end=\" \")\n",
    "    print()"
   ]
  },
  {
   "cell_type": "markdown",
   "metadata": {},
   "source": [
    "# making pyramid pattren."
   ]
  },
  {
   "cell_type": "code",
   "execution_count": 23,
   "metadata": {},
   "outputs": [
    {
     "name": "stdout",
     "output_type": "stream",
     "text": [
      "enter the value of rows:5\n",
      "    * \n",
      "   * * \n",
      "  * * * \n",
      " * * * * \n",
      "* * * * * \n"
     ]
    }
   ],
   "source": [
    "num=int(input(\"enter the value of rows:\"))\n",
    "\n",
    "for i in range(0,num):\n",
    "    for j in range(0,num-i-1): # this loop is for printing space.\n",
    "        print(end=\" \")\n",
    "    for j in range(0,i+1):\n",
    "        print(\"*\",end=\" \")\n",
    "    print()"
   ]
  },
  {
   "cell_type": "code",
   "execution_count": 4,
   "metadata": {},
   "outputs": [
    {
     "name": "stdout",
     "output_type": "stream",
     "text": [
      "enter the rows:6\n",
      "* * * * * * \n",
      " * * * * * \n",
      "  * * * * \n",
      "   * * * \n",
      "    * * \n",
      "     * \n"
     ]
    }
   ],
   "source": [
    "num=int(input(\"enter the rows:\"))\n",
    "\n",
    "for i in range(num,0,-1):\n",
    "    for j in range(0,num-i):\n",
    "        print(end=\" \")\n",
    "    for j in range(0,i):\n",
    "        print(\"*\",end=\" \")\n",
    "    print()"
   ]
  },
  {
   "cell_type": "code",
   "execution_count": 15,
   "metadata": {},
   "outputs": [
    {
     "name": "stdout",
     "output_type": "stream",
     "text": [
      "enter the value of num :6\n",
      "     * \n",
      "    * * \n",
      "   * * * \n",
      "  * * * * \n",
      " * * * * * \n",
      "* * * * * * \n",
      "* * * * * * \n",
      " * * * * * \n",
      "  * * * * \n",
      "   * * * \n",
      "    * * \n",
      "     * \n"
     ]
    }
   ],
   "source": [
    "# combining 2 patrens\n",
    "\n",
    "\n",
    "num=int(input(\"enter the value of num :\")) # let asume num = 6\n",
    "\n",
    "for row in range (0,num): # loop will work for number of rows , it will start from 0 ,1,2,3,4,5.(total 6).\n",
    "    for col in range(0,num-1-row): # this is to print space i.e form 0 to if num=6 anf if row = 3rd loop, then (6-1-3)=2 \n",
    "        print(end=\" \") # so 2 space will print before *.\n",
    "    for col in range(0,row+1): # this is to print the no of stars. it will go till 0 to row+1 i.e 0 ,1,2,3,4,5\n",
    "        print(\"*\",end=\" \") \n",
    "    print()\n",
    "# this part is doing revrese.\n",
    "for row in range (num,0,-1): # it will go from 6 to 1 \n",
    "    for col in range(0,num-row): # for space , suppose if row =3 than ( 6-3) = 3 space will print.\n",
    "        print(end=\" \") \n",
    "    for col in range(0,row): # for printing starts.\n",
    "        print(\"*\",end=\" \")\n",
    "    print()"
   ]
  },
  {
   "cell_type": "markdown",
   "metadata": {},
   "source": [
    "# we will print a string in pattren . "
   ]
  },
  {
   "cell_type": "code",
   "execution_count": 17,
   "metadata": {},
   "outputs": [
    {
     "name": "stdout",
     "output_type": "stream",
     "text": [
      "enter any string :python\n",
      "p\n",
      "py\n",
      "pyt\n",
      "pyth\n",
      "pytho\n",
      "python\n"
     ]
    }
   ],
   "source": [
    "string=input(\"enter any string :\")\n",
    "length=len(string)\n",
    "for row in range (length):\n",
    "    for col in range(0,row+1):\n",
    "        print(string[col],end=\"\") # dont give space here in between quotes of end,i.e end=\"\"\n",
    "    print()"
   ]
  },
  {
   "cell_type": "code",
   "execution_count": 21,
   "metadata": {},
   "outputs": [
    {
     "name": "stdout",
     "output_type": "stream",
     "text": [
      "enter any string :ankur\n",
      "    a \n",
      "   a n \n",
      "  a n k \n",
      " a n k u \n",
      "a n k u r \n"
     ]
    }
   ],
   "source": [
    "# if we want to print string in pyramid way.\n",
    "string=input(\"enter any string :\")\n",
    "length=len(string) # counting and storing lenght .\n",
    "for row in range (length): # the loop will go till the lenght of string . because that much rows will be print\n",
    "    for col in range(0,length-1-row):\n",
    "        print(end=\" \")\n",
    "    for col in range(0,row+1):\n",
    "        print(string[col],end=\" \") # than provide space in end=\"here provide space\" , otherwise output will be different.\n",
    "    print()"
   ]
  },
  {
   "cell_type": "code",
   "execution_count": null,
   "metadata": {},
   "outputs": [],
   "source": []
  },
  {
   "cell_type": "code",
   "execution_count": null,
   "metadata": {},
   "outputs": [],
   "source": []
  }
 ],
 "metadata": {
  "kernelspec": {
   "display_name": "Python 3",
   "language": "python",
   "name": "python3"
  },
  "language_info": {
   "codemirror_mode": {
    "name": "ipython",
    "version": 3
   },
   "file_extension": ".py",
   "mimetype": "text/x-python",
   "name": "python",
   "nbconvert_exporter": "python",
   "pygments_lexer": "ipython3",
   "version": "3.7.1"
  }
 },
 "nbformat": 4,
 "nbformat_minor": 2
}
